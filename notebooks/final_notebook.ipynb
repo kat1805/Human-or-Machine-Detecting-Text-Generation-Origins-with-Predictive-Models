{
 "cells": [
  {
   "attachments": {},
   "cell_type": "markdown",
   "metadata": {},
   "source": [
    "# COMP90051 Statistical Machine Learning Project 1"
   ]
  },
  {
   "attachments": {},
   "cell_type": "markdown",
   "metadata": {},
   "source": [
    "### Extracting, Transforming and Loading Data"
   ]
  },
  {
   "attachments": {},
   "cell_type": "markdown",
   "metadata": {},
   "source": [
    "A git ignore has been added to the data file to avoid pushing data to git. However, to use the repository we have saved the raw json files downloaded from Kaggle to a folder labelled 'raw' within the data file. We also had an empty folder labelled 'extracted' within the data folder to save our data after transforming it. These folders can be seen through the paths.json file we created and stored in the scripts folder.\n",
    "\n",
    "We then ran the following ETL script, parsing the paths.json file as an argument."
   ]
  },
  {
   "cell_type": "code",
   "execution_count": 72,
   "metadata": {},
   "outputs": [
    {
     "name": "stdout",
     "output_type": "stream",
     "text": [
      "Jsons have been converted to dataframes and saved to data/extracted\n"
     ]
    }
   ],
   "source": [
    "%run \"../scripts/ETL.py\" ../scripts/paths.json"
   ]
  },
  {
   "attachments": {},
   "cell_type": "markdown",
   "metadata": {},
   "source": [
    "This script firstly transforms all the json files to dataframes.\n",
    "\n",
    "After inspecting both machine and human data, we noticed that the machine data contained an extra field labelled 'machine_id' that the human data did not have. Using the distinct function, we observed that the machine id field contained integers from 0 to 4 to indicate the machine model used to generate the instance. Because of this, we added this field to the human data for mergeability. We assigned 'machine_id' = 5 to all human data, indicating that the instance was human generated.\n",
    "\n",
    "We were then able to merge the human and machine data, and were left with a dataframe for domain 1 data and domain 2 data.\n",
    "\n",
    "Because our goal was not to predict what model was used to generate each instance, but rather to predict if it was human or machine generated, we also created an extra field called 'label' where we assigned 'label' = 0 for machine data and 'label' = 1 for human data.\n",
    "\n",
    "These dataframes, as well as the testing data was then saved as a csv file to the extracted data folder."
   ]
  },
  {
   "attachments": {},
   "cell_type": "markdown",
   "metadata": {},
   "source": [
    "### Observing Data"
   ]
  },
  {
   "attachments": {},
   "cell_type": "markdown",
   "metadata": {},
   "source": [
    "After running the ETL script, the dataframes can be observed below."
   ]
  },
  {
   "cell_type": "code",
   "execution_count": 53,
   "metadata": {},
   "outputs": [
    {
     "data": {
      "text/html": [
       "<div>\n",
       "<style scoped>\n",
       "    .dataframe tbody tr th:only-of-type {\n",
       "        vertical-align: middle;\n",
       "    }\n",
       "\n",
       "    .dataframe tbody tr th {\n",
       "        vertical-align: top;\n",
       "    }\n",
       "\n",
       "    .dataframe thead th {\n",
       "        text-align: right;\n",
       "    }\n",
       "</style>\n",
       "<table border=\"1\" class=\"dataframe\">\n",
       "  <thead>\n",
       "    <tr style=\"text-align: right;\">\n",
       "      <th></th>\n",
       "      <th>prompt</th>\n",
       "      <th>txt</th>\n",
       "      <th>machine_id</th>\n",
       "      <th>label</th>\n",
       "    </tr>\n",
       "  </thead>\n",
       "  <tbody>\n",
       "    <tr>\n",
       "      <th>0</th>\n",
       "      <td>[1759, 4203, 1493, 3153, 1499]</td>\n",
       "      <td>[1479, 3457, 2277, 1827, 1493, 2582, 3723, 147...</td>\n",
       "      <td>5</td>\n",
       "      <td>1</td>\n",
       "    </tr>\n",
       "    <tr>\n",
       "      <th>1</th>\n",
       "      <td>[1502, 1557, 1487, 1479, 3402, 1551, 1602, 286...</td>\n",
       "      <td>[721, 2820, 1676, 4, 76, 2130, 1502, 1591, 148...</td>\n",
       "      <td>5</td>\n",
       "      <td>1</td>\n",
       "    </tr>\n",
       "    <tr>\n",
       "      <th>2</th>\n",
       "      <td>[3650, 1822, 1500, 4075, 15, 1510, 87, 1683, 1...</td>\n",
       "      <td>[2732, 3882, 1801, 1479, 2833, 2622, 2874, 156...</td>\n",
       "      <td>5</td>\n",
       "      <td>1</td>\n",
       "    </tr>\n",
       "    <tr>\n",
       "      <th>3</th>\n",
       "      <td>[1518, 2556, 15, 1612, 1490, 1598, 2409, 1484,...</td>\n",
       "      <td>[1479, 4758, 1734, 1511, 1500, 1479, 91, 10, 8...</td>\n",
       "      <td>5</td>\n",
       "      <td>1</td>\n",
       "    </tr>\n",
       "    <tr>\n",
       "      <th>4</th>\n",
       "      <td>[1518, 1519, 4640, 2858, 1865, 1622, 1520, 147...</td>\n",
       "      <td>[4683, 1751, 2004, 1485, 1499, 15, 1574, 2193,...</td>\n",
       "      <td>5</td>\n",
       "      <td>1</td>\n",
       "    </tr>\n",
       "  </tbody>\n",
       "</table>\n",
       "</div>"
      ],
      "text/plain": [
       "                                              prompt   \n",
       "0                     [1759, 4203, 1493, 3153, 1499]  \\\n",
       "1  [1502, 1557, 1487, 1479, 3402, 1551, 1602, 286...   \n",
       "2  [3650, 1822, 1500, 4075, 15, 1510, 87, 1683, 1...   \n",
       "3  [1518, 2556, 15, 1612, 1490, 1598, 2409, 1484,...   \n",
       "4  [1518, 1519, 4640, 2858, 1865, 1622, 1520, 147...   \n",
       "\n",
       "                                                 txt  machine_id  label  \n",
       "0  [1479, 3457, 2277, 1827, 1493, 2582, 3723, 147...           5      1  \n",
       "1  [721, 2820, 1676, 4, 76, 2130, 1502, 1591, 148...           5      1  \n",
       "2  [2732, 3882, 1801, 1479, 2833, 2622, 2874, 156...           5      1  \n",
       "3  [1479, 4758, 1734, 1511, 1500, 1479, 91, 10, 8...           5      1  \n",
       "4  [4683, 1751, 2004, 1485, 1499, 15, 1574, 2193,...           5      1  "
      ]
     },
     "execution_count": 53,
     "metadata": {},
     "output_type": "execute_result"
    }
   ],
   "source": [
    "d1.head(5)"
   ]
  },
  {
   "cell_type": "code",
   "execution_count": 27,
   "metadata": {},
   "outputs": [
    {
     "data": {
      "text/html": [
       "<div>\n",
       "<style scoped>\n",
       "    .dataframe tbody tr th:only-of-type {\n",
       "        vertical-align: middle;\n",
       "    }\n",
       "\n",
       "    .dataframe tbody tr th {\n",
       "        vertical-align: top;\n",
       "    }\n",
       "\n",
       "    .dataframe thead th {\n",
       "        text-align: right;\n",
       "    }\n",
       "</style>\n",
       "<table border=\"1\" class=\"dataframe\">\n",
       "  <thead>\n",
       "    <tr style=\"text-align: right;\">\n",
       "      <th></th>\n",
       "      <th>prompt</th>\n",
       "      <th>txt</th>\n",
       "      <th>machine_id</th>\n",
       "      <th>label</th>\n",
       "    </tr>\n",
       "  </thead>\n",
       "  <tbody>\n",
       "    <tr>\n",
       "      <th>0</th>\n",
       "      <td>[47, 2328, 1484, 1737, 36, 37, 4609, 1772, 157...</td>\n",
       "      <td>[55, 1497, 3396, 3860, 85, 1624, 1486, 1525, 5...</td>\n",
       "      <td>5</td>\n",
       "      <td>1</td>\n",
       "    </tr>\n",
       "    <tr>\n",
       "      <th>1</th>\n",
       "      <td>[58, 36, 54, 43, 44, 49, 42, 55, 50, 49, 1737,...</td>\n",
       "      <td>[36, 2318, 42, 50, 51, 3717, 2493, 42, 72, 409...</td>\n",
       "      <td>5</td>\n",
       "      <td>1</td>\n",
       "    </tr>\n",
       "    <tr>\n",
       "      <th>2</th>\n",
       "      <td>[39, 82, 93, 1943, 1500, 1481, 2140, 2389, 147...</td>\n",
       "      <td>[54, 1540, 1589, 1500, 44, 3882, 1705, 1478, 1...</td>\n",
       "      <td>5</td>\n",
       "      <td>1</td>\n",
       "    </tr>\n",
       "    <tr>\n",
       "      <th>3</th>\n",
       "      <td>[1737, 51, 1489, 81, 54, 87, 1643, 56, 2462, 2...</td>\n",
       "      <td>[36, 86, 68, 3273, 1936, 15, 1479, 56, 17, 54,...</td>\n",
       "      <td>5</td>\n",
       "      <td>1</td>\n",
       "    </tr>\n",
       "    <tr>\n",
       "      <th>4</th>\n",
       "      <td>[1737, 51, 1647, 1705, 1480, 3486, 2318, 1500,...</td>\n",
       "      <td>[44, 87, 1515, 1479, 1510, 1564, 1480, 51, 148...</td>\n",
       "      <td>5</td>\n",
       "      <td>1</td>\n",
       "    </tr>\n",
       "  </tbody>\n",
       "</table>\n",
       "</div>"
      ],
      "text/plain": [
       "                                              prompt   \n",
       "0  [47, 2328, 1484, 1737, 36, 37, 4609, 1772, 157...  \\\n",
       "1  [58, 36, 54, 43, 44, 49, 42, 55, 50, 49, 1737,...   \n",
       "2  [39, 82, 93, 1943, 1500, 1481, 2140, 2389, 147...   \n",
       "3  [1737, 51, 1489, 81, 54, 87, 1643, 56, 2462, 2...   \n",
       "4  [1737, 51, 1647, 1705, 1480, 3486, 2318, 1500,...   \n",
       "\n",
       "                                                 txt  machine_id  label  \n",
       "0  [55, 1497, 3396, 3860, 85, 1624, 1486, 1525, 5...           5      1  \n",
       "1  [36, 2318, 42, 50, 51, 3717, 2493, 42, 72, 409...           5      1  \n",
       "2  [54, 1540, 1589, 1500, 44, 3882, 1705, 1478, 1...           5      1  \n",
       "3  [36, 86, 68, 3273, 1936, 15, 1479, 56, 17, 54,...           5      1  \n",
       "4  [44, 87, 1515, 1479, 1510, 1564, 1480, 51, 148...           5      1  "
      ]
     },
     "execution_count": 27,
     "metadata": {},
     "output_type": "execute_result"
    }
   ],
   "source": [
    "d2.head(5)"
   ]
  },
  {
   "cell_type": "code",
   "execution_count": 28,
   "metadata": {},
   "outputs": [
    {
     "data": {
      "text/html": [
       "<div>\n",
       "<style scoped>\n",
       "    .dataframe tbody tr th:only-of-type {\n",
       "        vertical-align: middle;\n",
       "    }\n",
       "\n",
       "    .dataframe tbody tr th {\n",
       "        vertical-align: top;\n",
       "    }\n",
       "\n",
       "    .dataframe thead th {\n",
       "        text-align: right;\n",
       "    }\n",
       "</style>\n",
       "<table border=\"1\" class=\"dataframe\">\n",
       "  <thead>\n",
       "    <tr style=\"text-align: right;\">\n",
       "      <th></th>\n",
       "      <th>prompt</th>\n",
       "      <th>txt</th>\n",
       "    </tr>\n",
       "  </thead>\n",
       "  <tbody>\n",
       "    <tr>\n",
       "      <th>0</th>\n",
       "      <td>[2109, 2263, 86, 1868, 1528, 1911, 1506, 17]</td>\n",
       "      <td>[1571, 2130, 1499, 1479, 4611, 86, 1631, 2111,...</td>\n",
       "    </tr>\n",
       "    <tr>\n",
       "      <th>1</th>\n",
       "      <td>[2267, 1890, 3460, 6, 3836, 29, 1599, 72, 1860]</td>\n",
       "      <td>[76, 2277, 2443, 1479, 2185, 1888, 1493, 1873,...</td>\n",
       "    </tr>\n",
       "    <tr>\n",
       "      <th>2</th>\n",
       "      <td>[1602, 2770, 4021, 1727, 1686, 2930, 1484, 177...</td>\n",
       "      <td>[1490, 76, 2044, 1484, 1479, 1614, 2386, 15, 1...</td>\n",
       "    </tr>\n",
       "    <tr>\n",
       "      <th>3</th>\n",
       "      <td>[1939, 2059, 1628, 1551, 29, 1518, 1609, 1502,...</td>\n",
       "      <td>[13, 1586, 1901, 2325, 1485, 1479, 3658, 1828,...</td>\n",
       "    </tr>\n",
       "    <tr>\n",
       "      <th>4</th>\n",
       "      <td>[3101, 1479, 2564, 1500, 2439, 2586, 2093, 159...</td>\n",
       "      <td>[76, 1549, 81, 10, 87, 1640, 1586, 10, 86, 237...</td>\n",
       "    </tr>\n",
       "  </tbody>\n",
       "</table>\n",
       "</div>"
      ],
      "text/plain": [
       "                                              prompt   \n",
       "0       [2109, 2263, 86, 1868, 1528, 1911, 1506, 17]  \\\n",
       "1    [2267, 1890, 3460, 6, 3836, 29, 1599, 72, 1860]   \n",
       "2  [1602, 2770, 4021, 1727, 1686, 2930, 1484, 177...   \n",
       "3  [1939, 2059, 1628, 1551, 29, 1518, 1609, 1502,...   \n",
       "4  [3101, 1479, 2564, 1500, 2439, 2586, 2093, 159...   \n",
       "\n",
       "                                                 txt  \n",
       "0  [1571, 2130, 1499, 1479, 4611, 86, 1631, 2111,...  \n",
       "1  [76, 2277, 2443, 1479, 2185, 1888, 1493, 1873,...  \n",
       "2  [1490, 76, 2044, 1484, 1479, 1614, 2386, 15, 1...  \n",
       "3  [13, 1586, 1901, 2325, 1485, 1479, 3658, 1828,...  \n",
       "4  [76, 1549, 81, 10, 87, 1640, 1586, 10, 86, 237...  "
      ]
     },
     "execution_count": 28,
     "metadata": {},
     "output_type": "execute_result"
    }
   ],
   "source": [
    "test.head(5)"
   ]
  },
  {
   "attachments": {},
   "cell_type": "markdown",
   "metadata": {},
   "source": [
    "We also observe the instance counts for each of the datasets."
   ]
  },
  {
   "cell_type": "code",
   "execution_count": 40,
   "metadata": {},
   "outputs": [
    {
     "name": "stdout",
     "output_type": "stream",
     "text": [
      "Count for domain 1 data: \n",
      " prompt        126084\n",
      "txt           126084\n",
      "machine_id    126084\n",
      "label         126084\n",
      "dtype: int64 \n",
      "\n",
      "Count for domain 2 data: \n",
      " prompt        500\n",
      "txt           500\n",
      "machine_id    500\n",
      "label         500\n",
      "dtype: int64 \n",
      "\n",
      "Count for test data: \n",
      " prompt    1000\n",
      "txt       1000\n",
      "dtype: int64 \n",
      "\n"
     ]
    }
   ],
   "source": [
    "print(\"Count for domain 1 data: \\n\", d1.count(), \"\\n\")\n",
    "print(\"Count for domain 2 data: \\n\", d2.count(), \"\\n\")\n",
    "print(\"Count for test data: \\n\", test.count(), \"\\n\")"
   ]
  },
  {
   "attachments": {},
   "cell_type": "markdown",
   "metadata": {},
   "source": [
    "It is important to check how balanced our dataset is."
   ]
  },
  {
   "cell_type": "code",
   "execution_count": 45,
   "metadata": {},
   "outputs": [
    {
     "data": {
      "text/plain": [
       "<Axes: title={'center': 'Number of instances of each label in Domain 1'}, xlabel='label'>"
      ]
     },
     "execution_count": 45,
     "metadata": {},
     "output_type": "execute_result"
    },
    {
     "data": {
      "image/png": "[encoded data removed]",
      "text/plain": [
       "<Figure size 640x480 with 1 Axes>"
      ]
     },
     "metadata": {},
     "output_type": "display_data"
    }
   ],
   "source": [
    "d1['label'].value_counts().plot(kind = 'bar', title = 'Number of instances of each label in Domain 1')"
   ]
  },
  {
   "cell_type": "code",
   "execution_count": 46,
   "metadata": {},
   "outputs": [
    {
     "data": {
      "text/plain": [
       "<Axes: title={'center': 'Number of instances of each label in Domain 2'}, xlabel='label'>"
      ]
     },
     "execution_count": 46,
     "metadata": {},
     "output_type": "execute_result"
    },
    {
     "data": {
      "image/png": "[encoded data removed]",
      "text/plain": [
       "<Figure size 640x480 with 1 Axes>"
      ]
     },
     "metadata": {},
     "output_type": "display_data"
    }
   ],
   "source": [
    "d2['label'].value_counts().plot(kind = 'bar', title = 'Number of instances of each label in Domain 2')"
   ]
  },
  {
   "attachments": {},
   "cell_type": "markdown",
   "metadata": {},
   "source": [
    "As we can see from the above bar plots, both of our datasets are quite imbalanced, with domain 1 having significantly more human data, and domain 2 having significantly more machine data. We will need to take this into consideration when applying machine learning techniques to this data."
   ]
  },
  {
   "attachments": {},
   "cell_type": "markdown",
   "metadata": {},
   "source": [
    "### Count Vectorisation (TF-IDF)"
   ]
  },
  {
   "attachments": {},
   "cell_type": "markdown",
   "metadata": {},
   "source": [
    "In order to add less weighting on less meaningful words and potentially gain some insight into what specific words are more commonly used by humans vs what words are more commonly used by machines, we have chosen to use a word vectorisation method called Term Frequency - Inverse Document Frequency (TF-IDF). Term frequency calculates the proportional frequency in which a word appears in a text instance, while inverse document frequency calculates the inverse of the proportion of text instances that contain that word. While term frequency captures the importance of a specific word in a single instance, the inverse document frequency penalises words that appear in too many instances as they are less likely to be meaningful.\n",
    "\n",
    "TF-IDF multiplies these two terms together to create a single score for each word where meaningful words that appear frequently in an instance are assigned a value closer to 1 than a word that doesn't appear or is less meaningful."
   ]
  },
  {
   "cell_type": "code",
   "execution_count": 21,
   "metadata": {},
   "outputs": [
    {
     "name": "stdout",
     "output_type": "stream",
     "text": [
      "d1.csv has been vectorised\n",
      "d2.csv has been vectorised\n",
      "test.csv has been vectorised\n"
     ]
    }
   ],
   "source": [
    "%run \"../scripts/count_vectorise.py\" ../scripts/paths.json d1.csv\n",
    "%run \"../scripts/count_vectorise.py\" ../scripts/paths.json d2.csv\n",
    "%run \"../scripts/count_vectorise.py\" ../scripts/paths.json test.csv"
   ]
  },
  {
   "attachments": {},
   "cell_type": "markdown",
   "metadata": {},
   "source": [
    "The new features in the dataset can be viewed as such:"
   ]
  },
  {
   "cell_type": "code",
   "execution_count": 22,
   "metadata": {},
   "outputs": [
    {
     "data": {
      "text/html": [
       "<div>\n",
       "<style scoped>\n",
       "    .dataframe tbody tr th:only-of-type {\n",
       "        vertical-align: middle;\n",
       "    }\n",
       "\n",
       "    .dataframe tbody tr th {\n",
       "        vertical-align: top;\n",
       "    }\n",
       "\n",
       "    .dataframe thead th {\n",
       "        text-align: right;\n",
       "    }\n",
       "</style>\n",
       "<table border=\"1\" class=\"dataframe\">\n",
       "  <thead>\n",
       "    <tr style=\"text-align: right;\">\n",
       "      <th></th>\n",
       "      <th>prompt</th>\n",
       "      <th>txt</th>\n",
       "      <th>10</th>\n",
       "      <th>102</th>\n",
       "      <th>104</th>\n",
       "      <th>109</th>\n",
       "      <th>11</th>\n",
       "      <th>116</th>\n",
       "      <th>117</th>\n",
       "      <th>118</th>\n",
       "      <th>...</th>\n",
       "      <th>86</th>\n",
       "      <th>87</th>\n",
       "      <th>88</th>\n",
       "      <th>89</th>\n",
       "      <th>90</th>\n",
       "      <th>91</th>\n",
       "      <th>92</th>\n",
       "      <th>93</th>\n",
       "      <th>95</th>\n",
       "      <th>97</th>\n",
       "    </tr>\n",
       "  </thead>\n",
       "  <tbody>\n",
       "    <tr>\n",
       "      <th>0</th>\n",
       "      <td>[2109, 2263, 86, 1868, 1528, 1911, 1506, 17]</td>\n",
       "      <td>[1571, 2130, 1499, 1479, 4611, 86, 1631, 2111,...</td>\n",
       "      <td>0.153514</td>\n",
       "      <td>0.0</td>\n",
       "      <td>0.0</td>\n",
       "      <td>0.0</td>\n",
       "      <td>0.0</td>\n",
       "      <td>0.0</td>\n",
       "      <td>0.0</td>\n",
       "      <td>0.0</td>\n",
       "      <td>...</td>\n",
       "      <td>0.107339</td>\n",
       "      <td>0.000000</td>\n",
       "      <td>0.0</td>\n",
       "      <td>0.000000</td>\n",
       "      <td>0.0</td>\n",
       "      <td>0.0</td>\n",
       "      <td>0.035421</td>\n",
       "      <td>0.0</td>\n",
       "      <td>0.0</td>\n",
       "      <td>0.0</td>\n",
       "    </tr>\n",
       "    <tr>\n",
       "      <th>1</th>\n",
       "      <td>[2267, 1890, 3460, 6, 3836, 29, 1599, 72, 1860]</td>\n",
       "      <td>[76, 2277, 2443, 1479, 2185, 1888, 1493, 1873,...</td>\n",
       "      <td>0.000000</td>\n",
       "      <td>0.0</td>\n",
       "      <td>0.0</td>\n",
       "      <td>0.0</td>\n",
       "      <td>0.0</td>\n",
       "      <td>0.0</td>\n",
       "      <td>0.0</td>\n",
       "      <td>0.0</td>\n",
       "      <td>...</td>\n",
       "      <td>0.035315</td>\n",
       "      <td>0.000000</td>\n",
       "      <td>0.0</td>\n",
       "      <td>0.000000</td>\n",
       "      <td>0.0</td>\n",
       "      <td>0.0</td>\n",
       "      <td>0.000000</td>\n",
       "      <td>0.0</td>\n",
       "      <td>0.0</td>\n",
       "      <td>0.0</td>\n",
       "    </tr>\n",
       "    <tr>\n",
       "      <th>2</th>\n",
       "      <td>[1602, 2770, 4021, 1727, 1686, 2930, 1484, 177...</td>\n",
       "      <td>[1490, 76, 2044, 1484, 1479, 1614, 2386, 15, 1...</td>\n",
       "      <td>0.141750</td>\n",
       "      <td>0.0</td>\n",
       "      <td>0.0</td>\n",
       "      <td>0.0</td>\n",
       "      <td>0.0</td>\n",
       "      <td>0.0</td>\n",
       "      <td>0.0</td>\n",
       "      <td>0.0</td>\n",
       "      <td>...</td>\n",
       "      <td>0.115633</td>\n",
       "      <td>0.025756</td>\n",
       "      <td>0.0</td>\n",
       "      <td>0.000000</td>\n",
       "      <td>0.0</td>\n",
       "      <td>0.0</td>\n",
       "      <td>0.000000</td>\n",
       "      <td>0.0</td>\n",
       "      <td>0.0</td>\n",
       "      <td>0.0</td>\n",
       "    </tr>\n",
       "    <tr>\n",
       "      <th>3</th>\n",
       "      <td>[1939, 2059, 1628, 1551, 29, 1518, 1609, 1502,...</td>\n",
       "      <td>[13, 1586, 1901, 2325, 1485, 1479, 3658, 1828,...</td>\n",
       "      <td>0.083985</td>\n",
       "      <td>0.0</td>\n",
       "      <td>0.0</td>\n",
       "      <td>0.0</td>\n",
       "      <td>0.0</td>\n",
       "      <td>0.0</td>\n",
       "      <td>0.0</td>\n",
       "      <td>0.0</td>\n",
       "      <td>...</td>\n",
       "      <td>0.082213</td>\n",
       "      <td>0.000000</td>\n",
       "      <td>0.0</td>\n",
       "      <td>0.000000</td>\n",
       "      <td>0.0</td>\n",
       "      <td>0.0</td>\n",
       "      <td>0.000000</td>\n",
       "      <td>0.0</td>\n",
       "      <td>0.0</td>\n",
       "      <td>0.0</td>\n",
       "    </tr>\n",
       "    <tr>\n",
       "      <th>4</th>\n",
       "      <td>[3101, 1479, 2564, 1500, 2439, 2586, 2093, 159...</td>\n",
       "      <td>[76, 1549, 81, 10, 87, 1640, 1586, 10, 86, 237...</td>\n",
       "      <td>0.101083</td>\n",
       "      <td>0.0</td>\n",
       "      <td>0.0</td>\n",
       "      <td>0.0</td>\n",
       "      <td>0.0</td>\n",
       "      <td>0.0</td>\n",
       "      <td>0.0</td>\n",
       "      <td>0.0</td>\n",
       "      <td>...</td>\n",
       "      <td>0.049475</td>\n",
       "      <td>0.027550</td>\n",
       "      <td>0.0</td>\n",
       "      <td>0.055632</td>\n",
       "      <td>0.0</td>\n",
       "      <td>0.0</td>\n",
       "      <td>0.000000</td>\n",
       "      <td>0.0</td>\n",
       "      <td>0.0</td>\n",
       "      <td>0.0</td>\n",
       "    </tr>\n",
       "  </tbody>\n",
       "</table>\n",
       "<p>5 rows × 3581 columns</p>\n",
       "</div>"
      ],
      "text/plain": [
       "                                              prompt   \n",
       "0       [2109, 2263, 86, 1868, 1528, 1911, 1506, 17]  \\\n",
       "1    [2267, 1890, 3460, 6, 3836, 29, 1599, 72, 1860]   \n",
       "2  [1602, 2770, 4021, 1727, 1686, 2930, 1484, 177...   \n",
       "3  [1939, 2059, 1628, 1551, 29, 1518, 1609, 1502,...   \n",
       "4  [3101, 1479, 2564, 1500, 2439, 2586, 2093, 159...   \n",
       "\n",
       "                                                 txt        10  102  104  109   \n",
       "0  [1571, 2130, 1499, 1479, 4611, 86, 1631, 2111,...  0.153514  0.0  0.0  0.0  \\\n",
       "1  [76, 2277, 2443, 1479, 2185, 1888, 1493, 1873,...  0.000000  0.0  0.0  0.0   \n",
       "2  [1490, 76, 2044, 1484, 1479, 1614, 2386, 15, 1...  0.141750  0.0  0.0  0.0   \n",
       "3  [13, 1586, 1901, 2325, 1485, 1479, 3658, 1828,...  0.083985  0.0  0.0  0.0   \n",
       "4  [76, 1549, 81, 10, 87, 1640, 1586, 10, 86, 237...  0.101083  0.0  0.0  0.0   \n",
       "\n",
       "    11  116  117  118  ...        86        87   88        89   90   91   \n",
       "0  0.0  0.0  0.0  0.0  ...  0.107339  0.000000  0.0  0.000000  0.0  0.0  \\\n",
       "1  0.0  0.0  0.0  0.0  ...  0.035315  0.000000  0.0  0.000000  0.0  0.0   \n",
       "2  0.0  0.0  0.0  0.0  ...  0.115633  0.025756  0.0  0.000000  0.0  0.0   \n",
       "3  0.0  0.0  0.0  0.0  ...  0.082213  0.000000  0.0  0.000000  0.0  0.0   \n",
       "4  0.0  0.0  0.0  0.0  ...  0.049475  0.027550  0.0  0.055632  0.0  0.0   \n",
       "\n",
       "         92   93   95   97  \n",
       "0  0.035421  0.0  0.0  0.0  \n",
       "1  0.000000  0.0  0.0  0.0  \n",
       "2  0.000000  0.0  0.0  0.0  \n",
       "3  0.000000  0.0  0.0  0.0  \n",
       "4  0.000000  0.0  0.0  0.0  \n",
       "\n",
       "[5 rows x 3581 columns]"
      ]
     },
     "execution_count": 22,
     "metadata": {},
     "output_type": "execute_result"
    }
   ],
   "source": [
    "v_data.head(5)"
   ]
  },
  {
   "attachments": {},
   "cell_type": "markdown",
   "metadata": {},
   "source": [
    "### Baseline Model"
   ]
  },
  {
   "attachments": {},
   "cell_type": "markdown",
   "metadata": {},
   "source": [
    "Because we know our data is very imbalanced, we are mindful that we may obtain high validation scores simply by having a model biased towards the label with more instances. Therefore, before we attempt to create any meaningful ML models, we create a 0-R model and measure it's validation scores as a baseline model."
   ]
  },
  {
   "cell_type": "code",
   "execution_count": null,
   "metadata": {},
   "outputs": [],
   "source": [
    "%run \"../scripts/baseline.py\" ../scripts/paths.json d1.csv"
   ]
  }
 ],
 "metadata": {
  "kernelspec": {
   "display_name": "Python 3",
   "language": "python",
   "name": "python3"
  },
  "language_info": {
   "codemirror_mode": {
    "name": "ipython",
    "version": 3
   },
   "file_extension": ".py",
   "mimetype": "text/x-python",
   "name": "python",
   "nbconvert_exporter": "python",
   "pygments_lexer": "ipython3",
   "version": "3.9.12"
  },
  "orig_nbformat": 4
 },
 "nbformat": 4,
 "nbformat_minor": 2
}
