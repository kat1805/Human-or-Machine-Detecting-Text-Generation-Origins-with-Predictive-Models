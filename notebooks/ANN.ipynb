{
 "cells": [
  {
   "attachments": {},
   "cell_type": "markdown",
   "metadata": {},
   "source": [
    "# Artificial Neural Network - Domain 2 dataset"
   ]
  },
  {
   "cell_type": "code",
   "execution_count": 35,
   "metadata": {},
   "outputs": [],
   "source": [
    "# Importing the required libraries\n",
    "\n",
    "from sklearn.model_selection import train_test_split\n",
    "from sklearn.datasets import make_classification\n",
    "from sklearn.preprocessing import StandardScaler\n",
    "from sklearn.metrics import roc_auc_score\n",
    "from keras.models import Sequential\n",
    "import matplotlib.pyplot as plt\n",
    "from keras.layers import Dense\n",
    "import tensorflow as tf\n",
    "from keras import layers\n",
    "import pandas as pd\n",
    "import sklearn\n",
    "import keras"
   ]
  },
  {
   "attachments": {},
   "cell_type": "markdown",
   "metadata": {},
   "source": [
    "## Pre-processing"
   ]
  },
  {
   "cell_type": "code",
   "execution_count": 2,
   "metadata": {},
   "outputs": [],
   "source": [
    "# Reading the training data\n",
    "d2 = pd.read_csv(\"../data/Over and under sampling/d2_balanced_features.csv\")\n",
    "# Reading the labels\n",
    "labels = pd.read_csv(\"../data/Over and under sampling/d2_balanced_labels.csv\")\n",
    "\n",
    "# Removing the unwanted column\n",
    "d2 = d2.iloc[:,1:]"
   ]
  },
  {
   "cell_type": "code",
   "execution_count": 7,
   "metadata": {},
   "outputs": [],
   "source": [
    "# Seperating the trianing data and true labels \n",
    "\n",
    "X = d2.values\n",
    "Y = labels['label'].values\n",
    "\n",
    "# Splitting dataset into training and testing dataset\n",
    "\n",
    "X_train,X_test,Y_train,Y_test = train_test_split(X,Y,test_size=0.2,random_state=0)"
   ]
  },
  {
   "cell_type": "code",
   "execution_count": 9,
   "metadata": {},
   "outputs": [],
   "source": [
    "# Performing Feature Scaling\n",
    "\n",
    "sc = StandardScaler()\n",
    "X_train = sc.fit_transform(X_train)\n",
    "X_test = sc.transform(X_test)"
   ]
  },
  {
   "attachments": {},
   "cell_type": "markdown",
   "metadata": {},
   "source": [
    "## Model building"
   ]
  },
  {
   "cell_type": "code",
   "execution_count": 10,
   "metadata": {},
   "outputs": [
    {
     "name": "stderr",
     "output_type": "stream",
     "text": [
      "2023-04-26 20:14:17.495518: I tensorflow/core/platform/cpu_feature_guard.cc:193] This TensorFlow binary is optimized with oneAPI Deep Neural Network Library (oneDNN) to use the following CPU instructions in performance-critical operations:  SSE4.1 SSE4.2\n",
      "To enable them in other operations, rebuild TensorFlow with the appropriate compiler flags.\n"
     ]
    }
   ],
   "source": [
    "#Initialising ANN\n",
    "ann = tf.keras.models.Sequential()\n",
    "\n",
    "#Adding First Hidden Layer\n",
    "ann.add(tf.keras.layers.Dense(units=6,activation=\"relu\"))\n",
    "\n",
    "#Adding Second Hidden Layer\n",
    "ann.add(tf.keras.layers.Dense(units=6,activation=\"relu\"))\n",
    "\n",
    "#Adding Output Layer\n",
    "ann.add(tf.keras.layers.Dense(units=1,activation=\"sigmoid\"))\n",
    "\n",
    "#Compiling ANN\n",
    "ann.compile(optimizer=\"adam\",loss=\"binary_crossentropy\",metrics=['accuracy'])"
   ]
  },
  {
   "cell_type": "code",
   "execution_count": 11,
   "metadata": {},
   "outputs": [
    {
     "name": "stdout",
     "output_type": "stream",
     "text": [
      "Epoch 1/100\n",
      "15/15 [==============================] - 2s 99ms/step - loss: 2.5781 - accuracy: 0.6687\n",
      "Epoch 2/100\n",
      "15/15 [==============================] - 2s 103ms/step - loss: 0.0739 - accuracy: 0.9812\n",
      "Epoch 3/100\n",
      "15/15 [==============================] - 2s 101ms/step - loss: 0.0020 - accuracy: 1.0000\n",
      "Epoch 4/100\n",
      "15/15 [==============================] - 1s 93ms/step - loss: 2.0876e-04 - accuracy: 1.0000\n",
      "Epoch 5/100\n",
      "15/15 [==============================] - 1s 91ms/step - loss: 9.9215e-05 - accuracy: 1.0000\n",
      "Epoch 6/100\n",
      "15/15 [==============================] - 1s 92ms/step - loss: 6.6179e-05 - accuracy: 1.0000\n",
      "Epoch 7/100\n",
      "15/15 [==============================] - 1s 92ms/step - loss: 5.0001e-05 - accuracy: 1.0000\n",
      "Epoch 8/100\n",
      "15/15 [==============================] - 1s 93ms/step - loss: 4.1306e-05 - accuracy: 1.0000\n",
      "Epoch 9/100\n",
      "15/15 [==============================] - 1s 92ms/step - loss: 3.4394e-05 - accuracy: 1.0000\n",
      "Epoch 10/100\n",
      "15/15 [==============================] - 1s 92ms/step - loss: 2.9298e-05 - accuracy: 1.0000\n",
      "Epoch 11/100\n",
      "15/15 [==============================] - 1s 92ms/step - loss: 2.5008e-05 - accuracy: 1.0000\n",
      "Epoch 12/100\n",
      "15/15 [==============================] - 1s 92ms/step - loss: 2.1142e-05 - accuracy: 1.0000\n",
      "Epoch 13/100\n",
      "15/15 [==============================] - 1s 93ms/step - loss: 1.7903e-05 - accuracy: 1.0000\n",
      "Epoch 14/100\n",
      "15/15 [==============================] - 1s 92ms/step - loss: 1.4650e-05 - accuracy: 1.0000\n",
      "Epoch 15/100\n",
      "15/15 [==============================] - 1s 93ms/step - loss: 1.1812e-05 - accuracy: 1.0000\n",
      "Epoch 16/100\n",
      "15/15 [==============================] - 1s 93ms/step - loss: 9.5488e-06 - accuracy: 1.0000\n",
      "Epoch 17/100\n",
      "15/15 [==============================] - 1s 93ms/step - loss: 7.5481e-06 - accuracy: 1.0000\n",
      "Epoch 18/100\n",
      "15/15 [==============================] - 1s 97ms/step - loss: 6.0326e-06 - accuracy: 1.0000\n",
      "Epoch 19/100\n",
      "15/15 [==============================] - 1s 93ms/step - loss: 4.9117e-06 - accuracy: 1.0000\n",
      "Epoch 20/100\n",
      "15/15 [==============================] - 1s 94ms/step - loss: 4.0858e-06 - accuracy: 1.0000\n",
      "Epoch 21/100\n",
      "15/15 [==============================] - 1s 93ms/step - loss: 3.3808e-06 - accuracy: 1.0000\n",
      "Epoch 22/100\n",
      "15/15 [==============================] - 1s 93ms/step - loss: 2.9043e-06 - accuracy: 1.0000\n",
      "Epoch 23/100\n",
      "15/15 [==============================] - 1s 93ms/step - loss: 2.4979e-06 - accuracy: 1.0000\n",
      "Epoch 24/100\n",
      "15/15 [==============================] - 1s 92ms/step - loss: 2.1841e-06 - accuracy: 1.0000\n",
      "Epoch 25/100\n",
      "15/15 [==============================] - 1s 93ms/step - loss: 1.9273e-06 - accuracy: 1.0000\n",
      "Epoch 26/100\n",
      "15/15 [==============================] - 1s 92ms/step - loss: 1.7231e-06 - accuracy: 1.0000\n",
      "Epoch 27/100\n",
      "15/15 [==============================] - 1s 93ms/step - loss: 1.5600e-06 - accuracy: 1.0000\n",
      "Epoch 28/100\n",
      "15/15 [==============================] - 1s 93ms/step - loss: 1.4021e-06 - accuracy: 1.0000\n",
      "Epoch 29/100\n",
      "15/15 [==============================] - 1s 93ms/step - loss: 1.2789e-06 - accuracy: 1.0000\n",
      "Epoch 30/100\n",
      "15/15 [==============================] - 1s 93ms/step - loss: 1.1731e-06 - accuracy: 1.0000\n",
      "Epoch 31/100\n",
      "15/15 [==============================] - 1s 93ms/step - loss: 1.0808e-06 - accuracy: 1.0000\n",
      "Epoch 32/100\n",
      "15/15 [==============================] - 1s 93ms/step - loss: 9.9267e-07 - accuracy: 1.0000\n",
      "Epoch 33/100\n",
      "15/15 [==============================] - 1s 93ms/step - loss: 9.2560e-07 - accuracy: 1.0000\n",
      "Epoch 34/100\n",
      "15/15 [==============================] - 1s 97ms/step - loss: 8.6005e-07 - accuracy: 1.0000\n",
      "Epoch 35/100\n",
      "15/15 [==============================] - 1s 100ms/step - loss: 8.0039e-07 - accuracy: 1.0000\n",
      "Epoch 36/100\n",
      "15/15 [==============================] - 2s 102ms/step - loss: 7.5245e-07 - accuracy: 1.0000\n",
      "Epoch 37/100\n",
      "15/15 [==============================] - 1s 94ms/step - loss: 7.0359e-07 - accuracy: 1.0000\n",
      "Epoch 38/100\n",
      "15/15 [==============================] - 1s 95ms/step - loss: 6.6614e-07 - accuracy: 1.0000\n",
      "Epoch 39/100\n",
      "15/15 [==============================] - 1s 95ms/step - loss: 6.2564e-07 - accuracy: 1.0000\n",
      "Epoch 40/100\n",
      "15/15 [==============================] - 1s 94ms/step - loss: 5.9293e-07 - accuracy: 1.0000\n",
      "Epoch 41/100\n",
      "15/15 [==============================] - 1s 95ms/step - loss: 5.5826e-07 - accuracy: 1.0000\n",
      "Epoch 42/100\n",
      "15/15 [==============================] - 1s 96ms/step - loss: 5.3148e-07 - accuracy: 1.0000\n",
      "Epoch 43/100\n",
      "15/15 [==============================] - 1s 95ms/step - loss: 5.0422e-07 - accuracy: 1.0000\n",
      "Epoch 44/100\n",
      "15/15 [==============================] - 1s 96ms/step - loss: 4.8020e-07 - accuracy: 1.0000\n",
      "Epoch 45/100\n",
      "15/15 [==============================] - 2s 101ms/step - loss: 4.5794e-07 - accuracy: 1.0000\n",
      "Epoch 46/100\n",
      "15/15 [==============================] - 1s 96ms/step - loss: 4.3656e-07 - accuracy: 1.0000\n",
      "Epoch 47/100\n",
      "15/15 [==============================] - 2s 101ms/step - loss: 4.1717e-07 - accuracy: 1.0000\n",
      "Epoch 48/100\n",
      "15/15 [==============================] - 1s 97ms/step - loss: 3.9909e-07 - accuracy: 1.0000\n",
      "Epoch 49/100\n",
      "15/15 [==============================] - 1s 97ms/step - loss: 3.8188e-07 - accuracy: 1.0000\n",
      "Epoch 50/100\n",
      "15/15 [==============================] - 1s 98ms/step - loss: 3.6570e-07 - accuracy: 1.0000\n",
      "Epoch 51/100\n",
      "15/15 [==============================] - 1s 97ms/step - loss: 3.5198e-07 - accuracy: 1.0000\n",
      "Epoch 52/100\n",
      "15/15 [==============================] - 1s 97ms/step - loss: 3.3817e-07 - accuracy: 1.0000\n",
      "Epoch 53/100\n",
      "15/15 [==============================] - 1s 98ms/step - loss: 3.2377e-07 - accuracy: 1.0000\n",
      "Epoch 54/100\n",
      "15/15 [==============================] - 1s 97ms/step - loss: 3.1267e-07 - accuracy: 1.0000\n",
      "Epoch 55/100\n",
      "15/15 [==============================] - 1s 98ms/step - loss: 3.0090e-07 - accuracy: 1.0000\n",
      "Epoch 56/100\n",
      "15/15 [==============================] - 1s 98ms/step - loss: 2.8936e-07 - accuracy: 1.0000\n",
      "Epoch 57/100\n",
      "15/15 [==============================] - 2s 103ms/step - loss: 2.7927e-07 - accuracy: 1.0000\n",
      "Epoch 58/100\n",
      "15/15 [==============================] - 1s 97ms/step - loss: 2.6964e-07 - accuracy: 1.0000\n",
      "Epoch 59/100\n",
      "15/15 [==============================] - 2s 100ms/step - loss: 2.6059e-07 - accuracy: 1.0000\n",
      "Epoch 60/100\n",
      "15/15 [==============================] - 2s 100ms/step - loss: 2.5166e-07 - accuracy: 1.0000\n",
      "Epoch 61/100\n",
      "15/15 [==============================] - 1s 99ms/step - loss: 2.4316e-07 - accuracy: 1.0000\n",
      "Epoch 62/100\n",
      "15/15 [==============================] - 1s 99ms/step - loss: 2.3532e-07 - accuracy: 1.0000\n",
      "Epoch 63/100\n",
      "15/15 [==============================] - 1s 99ms/step - loss: 2.2802e-07 - accuracy: 1.0000\n",
      "Epoch 64/100\n",
      "15/15 [==============================] - 1s 99ms/step - loss: 2.2084e-07 - accuracy: 1.0000\n",
      "Epoch 65/100\n",
      "15/15 [==============================] - 1s 99ms/step - loss: 2.1411e-07 - accuracy: 1.0000\n",
      "Epoch 66/100\n",
      "15/15 [==============================] - 2s 104ms/step - loss: 2.0776e-07 - accuracy: 1.0000\n",
      "Epoch 67/100\n",
      "15/15 [==============================] - 2s 100ms/step - loss: 2.0183e-07 - accuracy: 1.0000\n",
      "Epoch 68/100\n",
      "15/15 [==============================] - 1s 99ms/step - loss: 1.9541e-07 - accuracy: 1.0000\n",
      "Epoch 69/100\n",
      "15/15 [==============================] - 1s 99ms/step - loss: 1.8984e-07 - accuracy: 1.0000\n",
      "Epoch 70/100\n",
      "15/15 [==============================] - 1s 99ms/step - loss: 1.8472e-07 - accuracy: 1.0000\n",
      "Epoch 71/100\n",
      "15/15 [==============================] - 2s 104ms/step - loss: 1.7942e-07 - accuracy: 1.0000\n",
      "Epoch 72/100\n",
      "15/15 [==============================] - 1s 100ms/step - loss: 1.7469e-07 - accuracy: 1.0000\n",
      "Epoch 73/100\n",
      "15/15 [==============================] - 2s 100ms/step - loss: 1.6951e-07 - accuracy: 1.0000\n",
      "Epoch 74/100\n",
      "15/15 [==============================] - 1s 100ms/step - loss: 1.6510e-07 - accuracy: 1.0000\n",
      "Epoch 75/100\n",
      "15/15 [==============================] - 2s 101ms/step - loss: 1.6073e-07 - accuracy: 1.0000\n",
      "Epoch 76/100\n",
      "15/15 [==============================] - 1s 99ms/step - loss: 1.5672e-07 - accuracy: 1.0000\n",
      "Epoch 77/100\n",
      "15/15 [==============================] - 1s 99ms/step - loss: 1.5260e-07 - accuracy: 1.0000\n",
      "Epoch 78/100\n",
      "15/15 [==============================] - 2s 100ms/step - loss: 1.4861e-07 - accuracy: 1.0000\n",
      "Epoch 79/100\n",
      "15/15 [==============================] - 2s 100ms/step - loss: 1.4510e-07 - accuracy: 1.0000\n",
      "Epoch 80/100\n",
      "15/15 [==============================] - 2s 101ms/step - loss: 1.4137e-07 - accuracy: 1.0000\n",
      "Epoch 81/100\n",
      "15/15 [==============================] - 2s 109ms/step - loss: 1.3787e-07 - accuracy: 1.0000\n",
      "Epoch 82/100\n",
      "15/15 [==============================] - 2s 113ms/step - loss: 1.3462e-07 - accuracy: 1.0000\n",
      "Epoch 83/100\n",
      "15/15 [==============================] - 2s 108ms/step - loss: 1.3150e-07 - accuracy: 1.0000\n",
      "Epoch 84/100\n",
      "15/15 [==============================] - 2s 108ms/step - loss: 1.2833e-07 - accuracy: 1.0000\n",
      "Epoch 85/100\n",
      "15/15 [==============================] - 2s 102ms/step - loss: 1.2524e-07 - accuracy: 1.0000\n",
      "Epoch 86/100\n",
      "15/15 [==============================] - 2s 101ms/step - loss: 1.2258e-07 - accuracy: 1.0000\n",
      "Epoch 87/100\n",
      "15/15 [==============================] - 2s 103ms/step - loss: 1.1944e-07 - accuracy: 1.0000\n",
      "Epoch 88/100\n",
      "15/15 [==============================] - 2s 104ms/step - loss: 1.1706e-07 - accuracy: 1.0000\n",
      "Epoch 89/100\n",
      "15/15 [==============================] - 2s 102ms/step - loss: 1.1425e-07 - accuracy: 1.0000\n",
      "Epoch 90/100\n",
      "15/15 [==============================] - 2s 101ms/step - loss: 1.1183e-07 - accuracy: 1.0000\n",
      "Epoch 91/100\n",
      "15/15 [==============================] - 2s 109ms/step - loss: 1.0945e-07 - accuracy: 1.0000\n",
      "Epoch 92/100\n",
      "15/15 [==============================] - 2s 102ms/step - loss: 1.0698e-07 - accuracy: 1.0000\n",
      "Epoch 93/100\n",
      "15/15 [==============================] - 2s 101ms/step - loss: 1.0474e-07 - accuracy: 1.0000\n",
      "Epoch 94/100\n",
      "15/15 [==============================] - 2s 108ms/step - loss: 1.0254e-07 - accuracy: 1.0000\n",
      "Epoch 95/100\n",
      "15/15 [==============================] - 2s 102ms/step - loss: 1.0041e-07 - accuracy: 1.0000\n",
      "Epoch 96/100\n",
      "15/15 [==============================] - 2s 102ms/step - loss: 9.8297e-08 - accuracy: 1.0000\n",
      "Epoch 97/100\n",
      "15/15 [==============================] - 2s 102ms/step - loss: 9.6322e-08 - accuracy: 1.0000\n",
      "Epoch 98/100\n",
      "15/15 [==============================] - 2s 116ms/step - loss: 9.4304e-08 - accuracy: 1.0000\n",
      "Epoch 99/100\n",
      "15/15 [==============================] - 2s 118ms/step - loss: 9.2592e-08 - accuracy: 1.0000\n",
      "Epoch 100/100\n",
      "15/15 [==============================] - 2s 103ms/step - loss: 9.0550e-08 - accuracy: 1.0000\n"
     ]
    },
    {
     "data": {
      "text/plain": [
       "<keras.callbacks.History at 0x7fc16e919c60>"
      ]
     },
     "execution_count": 11,
     "metadata": {},
     "output_type": "execute_result"
    }
   ],
   "source": [
    "#Fitting ANN model\n",
    "ann.fit(X_train,Y_train,batch_size=32,epochs = 100)"
   ]
  },
  {
   "attachments": {},
   "cell_type": "markdown",
   "metadata": {},
   "source": [
    "### Validation set prediction and evaluation"
   ]
  },
  {
   "cell_type": "code",
   "execution_count": 12,
   "metadata": {},
   "outputs": [
    {
     "name": "stdout",
     "output_type": "stream",
     "text": [
      "4/4 [==============================] - 0s 28ms/step\n"
     ]
    }
   ],
   "source": [
    "# Predictingthe labels for validation set instances\n",
    "\n",
    "predictions = ann.predict(X_test)\n",
    "\n",
    "# Setting the threshold to classify the instances\n",
    "\n",
    "predictions = (predictions>0.5)"
   ]
  },
  {
   "cell_type": "code",
   "execution_count": 15,
   "metadata": {},
   "outputs": [],
   "source": [
    "# Saving the results in a dataframe \n",
    "\n",
    "results = pd.DataFrame(list(zip(Y_test, predictions)), columns=['Actual', 'Predicted'])\n",
    "results['Pred value'] = 0\n",
    "results.loc[results['Predicted'] == 1, 'Pred value'] = 1"
   ]
  },
  {
   "cell_type": "code",
   "execution_count": 16,
   "metadata": {},
   "outputs": [],
   "source": [
    "# Comparing the true and predicted label values\n",
    "\n",
    "labels = results['Actual'].values\n",
    "pred = results['Pred value'].values"
   ]
  },
  {
   "cell_type": "code",
   "execution_count": 17,
   "metadata": {},
   "outputs": [
    {
     "data": {
      "text/plain": [
       "array([[80,  0],\n",
       "       [ 8, 32]])"
      ]
     },
     "execution_count": 17,
     "metadata": {},
     "output_type": "execute_result"
    }
   ],
   "source": [
    "# Evaluating the confusion matrix\n",
    "\n",
    "sklearn.metrics.confusion_matrix(labels, pred)"
   ]
  },
  {
   "cell_type": "code",
   "execution_count": 18,
   "metadata": {},
   "outputs": [
    {
     "data": {
      "text/plain": [
       "0.9333333333333333"
      ]
     },
     "execution_count": 18,
     "metadata": {},
     "output_type": "execute_result"
    }
   ],
   "source": [
    "# Calculating the accuracy\n",
    "\n",
    "sklearn.metrics.accuracy_score(labels, pred)"
   ]
  },
  {
   "cell_type": "code",
   "execution_count": 19,
   "metadata": {},
   "outputs": [
    {
     "data": {
      "text/plain": [
       "0.9090909090909091"
      ]
     },
     "execution_count": 19,
     "metadata": {},
     "output_type": "execute_result"
    }
   ],
   "source": [
    "# Calculating the precision\n",
    "\n",
    "sklearn.metrics.precision_score(labels, pred, pos_label=0)"
   ]
  },
  {
   "cell_type": "code",
   "execution_count": 20,
   "metadata": {},
   "outputs": [
    {
     "data": {
      "text/plain": [
       "1.0"
      ]
     },
     "execution_count": 20,
     "metadata": {},
     "output_type": "execute_result"
    }
   ],
   "source": [
    "# Calculating the recall\n",
    "\n",
    "sklearn.metrics.recall_score(labels, pred, pos_label=0)"
   ]
  },
  {
   "attachments": {},
   "cell_type": "markdown",
   "metadata": {},
   "source": [
    "## Test set predictions"
   ]
  },
  {
   "attachments": {},
   "cell_type": "markdown",
   "metadata": {},
   "source": [
    "### Pre-processing"
   ]
  },
  {
   "cell_type": "code",
   "execution_count": 37,
   "metadata": {},
   "outputs": [],
   "source": [
    "# Loading the test data\n",
    "\n",
    "test = pd.read_csv(\"../data/Over and under sampling/test_features.csv\")\n",
    "\n",
    "# Selecting the first 600 test instances for prediction\n",
    "test = test.iloc[600:,1:]"
   ]
  },
  {
   "cell_type": "code",
   "execution_count": 26,
   "metadata": {},
   "outputs": [],
   "source": [
    "# Scaling the test instances\n",
    "\n",
    "test= sc.fit_transform(test)"
   ]
  },
  {
   "attachments": {},
   "cell_type": "markdown",
   "metadata": {},
   "source": [
    "### Predictions"
   ]
  },
  {
   "cell_type": "code",
   "execution_count": 38,
   "metadata": {},
   "outputs": [
    {
     "name": "stdout",
     "output_type": "stream",
     "text": [
      "13/13 [==============================] - 0s 27ms/step\n"
     ]
    }
   ],
   "source": [
    "# Predicting the labels\n",
    "\n",
    "predictions_test = ann.predict(test)\n",
    "predictions_test = (predictions_test > 0.5)\n"
   ]
  },
  {
   "cell_type": "code",
   "execution_count": 28,
   "metadata": {},
   "outputs": [],
   "source": [
    "# Saving the results in a dataframe\n",
    "\n",
    "final_pred = pd.DataFrame(list(zip(predictions_test)), columns=['Predicted_test'])\n",
    "\n",
    "final_pred ['Pred value'] = 0\n",
    "final_pred .loc[final_pred['Predicted_test'] == 1, 'Pred value'] = 1"
   ]
  },
  {
   "cell_type": "code",
   "execution_count": 34,
   "metadata": {},
   "outputs": [],
   "source": [
    "# Saving the final results in the form of a csv\n",
    "preds = final_pred['Pred value']\n",
    "preds.to_csv(\"../data/Predictions/ANN_400.csv\", index=True)"
   ]
  }
 ],
 "metadata": {
  "kernelspec": {
   "display_name": "base",
   "language": "python",
   "name": "python3"
  },
  "language_info": {
   "codemirror_mode": {
    "name": "ipython",
    "version": 3
   },
   "file_extension": ".py",
   "mimetype": "text/x-python",
   "name": "python",
   "nbconvert_exporter": "python",
   "pygments_lexer": "ipython3",
   "version": "3.10.10"
  },
  "orig_nbformat": 4,
  "vscode": {
   "interpreter": {
    "hash": "afcda84b7471a9b9fde108a34f159f021985318d3feb99cad4970c959fa9ac9e"
   }
  }
 },
 "nbformat": 4,
 "nbformat_minor": 2
}
